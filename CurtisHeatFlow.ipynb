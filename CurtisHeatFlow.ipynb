{
 "cells": [
  {
   "cell_type": "code",
   "execution_count": 1,
   "metadata": {},
   "outputs": [],
   "source": [
    "from heatflow import heat_flow\n",
    "\n",
    "To = 15\n",
    "alpha = 35\n",
    "Tb = 1000\n",
    "t = [0, 500000, 1E6, 1.5E6, 2E6, 2.5E6, 3E6, 3.5E6, 4E6]"
   ]
  },
  {
   "cell_type": "code",
   "execution_count": 2,
   "metadata": {},
   "outputs": [],
   "source": [
    "import pickle as p\n",
    "\n",
    "node_results = p.load(open('exhumationExport.p','rb'))"
   ]
  },
  {
   "cell_type": "code",
   "execution_count": 3,
   "metadata": {},
   "outputs": [],
   "source": [
    "import numpy as np\n",
    "from scipy.interpolate import interp1d\n",
    "\n",
    "surface_gradient = np.zeros(71)\n",
    "\n",
    "for i in range(71):\n",
    "    time = np.reshape(node_results[:,0,i],(401,))\n",
    "    exhumation_rate = np.reshape(node_results[:,1,i], (401,))\n",
    "    v = interp1d(time,exhumation_rate, kind='cubic')\n",
    "    z, T = heat_flow(To, Tb, alpha, t, v = v, use_cfl=True)\n",
    "    surface_gradient[i] = np.mean(np.diff(T[-1,0:5]/(z[1]-z[0])))*1000"
   ]
  },
  {
   "cell_type": "code",
   "execution_count": 4,
   "metadata": {},
   "outputs": [
    {
     "data": {
      "text/plain": [
       "[<matplotlib.lines.Line2D at 0x7fd09591a3c8>]"
      ]
     },
     "execution_count": 4,
     "metadata": {},
     "output_type": "execute_result"
    },
    {
     "data": {
      "image/png": "[encoded data removed]",
      "text/plain": [
       "<Figure size 432x288 with 1 Axes>"
      ]
     },
     "metadata": {
      "needs_background": "light"
     },
     "output_type": "display_data"
    }
   ],
   "source": [
    "import matplotlib.pylab as plt\n",
    "\n",
    "plt.plot(range(71),surface_gradient,'k.')"
   ]
  },
  {
   "cell_type": "code",
   "execution_count": 5,
   "metadata": {},
   "outputs": [],
   "source": [
    "import numpy as np\n",
    "from scipy.interpolate import interp1d\n",
    "\n",
    "surface_gradient_2km = np.zeros(71)\n",
    "\n",
    "for i in range(71):\n",
    "    time = np.reshape(node_results[:,0,i],(401,))\n",
    "    exhumation_rate = np.reshape(node_results[:,1,i], (401,))\n",
    "    v = interp1d(time,exhumation_rate, kind='cubic')\n",
    "    z, T = heat_flow(To, Tb, alpha, t, v = v, use_cfl=True)\n",
    "    surface_gradient_2km[i] = np.mean(np.diff(T[-1,0:20]/(z[1]-z[0])))*1000"
   ]
  },
  {
   "cell_type": "code",
   "execution_count": 12,
   "metadata": {},
   "outputs": [
    {
     "data": {
      "text/plain": [
       "[<matplotlib.lines.Line2D at 0x7fd09bebc978>]"
      ]
     },
     "execution_count": 12,
     "metadata": {},
     "output_type": "execute_result"
    },
    {
     "data": {
      "image/png": "[encoded data removed]",
      "text/plain": [
       "<Figure size 432x288 with 1 Axes>"
      ]
     },
     "metadata": {
      "needs_background": "light"
     },
     "output_type": "display_data"
    }
   ],
   "source": [
    "import matplotlib.pylab as plt\n",
    "\n",
    "plt.plot(range(71),surface_gradient_2km,'k.')"
   ]
  },
  {
   "cell_type": "code",
   "execution_count": null,
   "metadata": {},
   "outputs": [],
   "source": []
  }
 ],
 "metadata": {
  "kernelspec": {
   "display_name": "Python 3",
   "language": "python",
   "name": "python3"
  },
  "language_info": {
   "codemirror_mode": {
    "name": "ipython",
    "version": 3
   },
   "file_extension": ".py",
   "mimetype": "text/x-python",
   "name": "python",
   "nbconvert_exporter": "python",
   "pygments_lexer": "ipython3",
   "version": "3.6.9"
  }
 },
 "nbformat": 4,
 "nbformat_minor": 4
}
